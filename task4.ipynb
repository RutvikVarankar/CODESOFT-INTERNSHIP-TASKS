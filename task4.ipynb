{
 "cells": [
  {
   "cell_type": "markdown",
   "id": "31f2372a",
   "metadata": {},
   "source": [
    "### Import Required Libraries"
   ]
  },
  {
   "cell_type": "code",
   "execution_count": 1,
   "id": "3865a3dc",
   "metadata": {},
   "outputs": [],
   "source": [
    "import pandas as pd\n",
    "import matplotlib.pyplot as plt"
   ]
  },
  {
   "cell_type": "code",
   "execution_count": 2,
   "id": "e3812b4d",
   "metadata": {},
   "outputs": [],
   "source": [
    "import seaborn as sns\n",
    "import re"
   ]
  },
  {
   "cell_type": "markdown",
   "id": "f8b6be1c",
   "metadata": {},
   "source": [
    "### Import NLP Tools"
   ]
  },
  {
   "cell_type": "code",
   "execution_count": 3,
   "id": "4e3e2f23",
   "metadata": {},
   "outputs": [],
   "source": [
    "import nltk\n",
    "from nltk.corpus import stopwords\n",
    "from nltk.stem import PorterStemmer"
   ]
  },
  {
   "cell_type": "markdown",
   "id": "59dc9004",
   "metadata": {},
   "source": [
    "### Model Training Tools"
   ]
  },
  {
   "cell_type": "code",
   "execution_count": 4,
   "id": "20315614",
   "metadata": {},
   "outputs": [],
   "source": [
    "from sklearn.model_selection import train_test_split, GridSearchCV\n",
    "from sklearn.feature_extraction.text import TfidfVectorizer"
   ]
  },
  {
   "cell_type": "markdown",
   "id": "590f1637",
   "metadata": {},
   "source": [
    "### Import Machine Learning Models"
   ]
  },
  {
   "cell_type": "code",
   "execution_count": 5,
   "id": "18f55126",
   "metadata": {},
   "outputs": [],
   "source": [
    "from sklearn.naive_bayes import MultinomialNB\n",
    "from sklearn.linear_model import LogisticRegression\n",
    "from sklearn.svm import LinearSVC"
   ]
  },
  {
   "cell_type": "markdown",
   "id": "65d03a26",
   "metadata": {},
   "source": [
    "### Import Evaluation Metrics"
   ]
  },
  {
   "cell_type": "code",
   "execution_count": 6,
   "id": "9b643d93",
   "metadata": {},
   "outputs": [],
   "source": [
    "from sklearn.metrics import accuracy_score, classification_report, confusion_matrix"
   ]
  },
  {
   "cell_type": "markdown",
   "id": "32d2d9e7",
   "metadata": {},
   "source": [
    "### Handle Class Imbalance"
   ]
  },
  {
   "cell_type": "code",
   "execution_count": 7,
   "id": "80e64134",
   "metadata": {},
   "outputs": [],
   "source": [
    "from imblearn.over_sampling import SMOTE"
   ]
  },
  {
   "cell_type": "markdown",
   "id": "15c3939f",
   "metadata": {},
   "source": [
    "### Download Stopwords"
   ]
  },
  {
   "cell_type": "code",
   "execution_count": 8,
   "id": "860b6aa8",
   "metadata": {},
   "outputs": [
    {
     "name": "stderr",
     "output_type": "stream",
     "text": [
      "[nltk_data] Downloading package stopwords to\n",
      "[nltk_data]     C:\\Users\\Rutvik\\AppData\\Roaming\\nltk_data...\n",
      "[nltk_data]   Package stopwords is already up-to-date!\n"
     ]
    },
    {
     "data": {
      "text/plain": [
       "True"
      ]
     },
     "execution_count": 8,
     "metadata": {},
     "output_type": "execute_result"
    }
   ],
   "source": [
    "# Download NLTK resources.\n",
    "nltk.download('stopwords')"
   ]
  },
  {
   "cell_type": "markdown",
   "id": "af75853f",
   "metadata": {},
   "source": [
    "### Load Datasets"
   ]
  },
  {
   "cell_type": "code",
   "execution_count": 9,
   "id": "11063617",
   "metadata": {},
   "outputs": [],
   "source": [
    "# Load the dataset.\n",
    "df = pd.read_csv(\"C:/Users/Rutvik/OneDrive/Desktop/CODESOFT INTERNSHIP TASK/CODESOFT_Task4_Spam_SMS_Detection/SMS Spam Collection Dataset/spam.csv\", encoding='latin-1')[['v1', 'v2']]\n",
    "df.columns = ['label', 'text']"
   ]
  },
  {
   "cell_type": "markdown",
   "id": "671d62ac",
   "metadata": {},
   "source": [
    "### Initialize NLP Tools"
   ]
  },
  {
   "cell_type": "code",
   "execution_count": 10,
   "id": "76b3ce80",
   "metadata": {},
   "outputs": [],
   "source": [
    "# Preprocess the text data using porter stemming and removing stop words.\n",
    "stemmer = PorterStemmer()\n",
    "stop_words = set(stopwords.words('english'))"
   ]
  },
  {
   "cell_type": "markdown",
   "id": "3a02f24f",
   "metadata": {},
   "source": [
    "### Text Cleaning Function"
   ]
  },
  {
   "cell_type": "code",
   "execution_count": 11,
   "id": "4ddc1759",
   "metadata": {},
   "outputs": [],
   "source": [
    "# Function to clean and preprocess text data.\n",
    "def clean_text(text):\n",
    "    text = text.lower()\n",
    "    text = re.sub(r'[^\\w\\s]', '', text)\n",
    "    text = ' '.join([stemmer.stem(word) for word in text.split() if word not in stop_words])\n",
    "    return text"
   ]
  },
  {
   "cell_type": "markdown",
   "id": "c3a88db7",
   "metadata": {},
   "source": [
    "### Apply Cleaning"
   ]
  },
  {
   "cell_type": "code",
   "execution_count": 12,
   "id": "47c2adcb",
   "metadata": {},
   "outputs": [],
   "source": [
    "# Apply the cleaning function to the text column.\n",
    "df['cleaned_text'] = df['text'].apply(clean_text)"
   ]
  },
  {
   "cell_type": "markdown",
   "id": "c3235fa5",
   "metadata": {},
   "source": [
    "### Encode Labels"
   ]
  },
  {
   "cell_type": "code",
   "execution_count": 13,
   "id": "91ce4841",
   "metadata": {},
   "outputs": [],
   "source": [
    "# Convert labels to numerical values for modeling.\n",
    "df['label_num'] = df['label'].map({'ham': 0, 'spam': 1})"
   ]
  },
  {
   "cell_type": "markdown",
   "id": "bb09d9f1",
   "metadata": {},
   "source": [
    "### TF-IDF Vectorization"
   ]
  },
  {
   "cell_type": "code",
   "execution_count": 14,
   "id": "9e5ac302",
   "metadata": {},
   "outputs": [],
   "source": [
    "# Create TF-IDF features from the cleaned text and prepare the target variable and features.\n",
    "tfidf = TfidfVectorizer(ngram_range=(1,2), max_df=0.9, min_df=5)\n",
    "X = tfidf.fit_transform(df['cleaned_text'])\n",
    "y = df['label_num']"
   ]
  },
  {
   "cell_type": "markdown",
   "id": "a2375b3e",
   "metadata": {},
   "source": [
    "### Train-Test Split"
   ]
  },
  {
   "cell_type": "code",
   "execution_count": 15,
   "id": "e25b9c15",
   "metadata": {},
   "outputs": [],
   "source": [
    "# Split the dataset into training and testing sets.\n",
    "X_train, X_test, y_train, y_test = train_test_split(X, y, test_size=0.2, random_state=42)"
   ]
  },
  {
   "cell_type": "markdown",
   "id": "60571d42",
   "metadata": {},
   "source": [
    "### Balance Classes with SMOTE"
   ]
  },
  {
   "cell_type": "code",
   "execution_count": 16,
   "id": "2586eb39",
   "metadata": {},
   "outputs": [],
   "source": [
    "# Handle class imbalance using SMOTE.\n",
    "smote = SMOTE(random_state=42)\n",
    "X_train, y_train = smote.fit_resample(X_train, y_train)"
   ]
  },
  {
   "cell_type": "markdown",
   "id": "0e8a7e1b",
   "metadata": {},
   "source": [
    "### Model Training and Evaluation"
   ]
  },
  {
   "cell_type": "markdown",
   "id": "209a8f29",
   "metadata": {},
   "source": [
    "##### Naive Bayes Model"
   ]
  },
  {
   "cell_type": "code",
   "execution_count": 17,
   "id": "a458524e",
   "metadata": {},
   "outputs": [],
   "source": [
    "# Train and evaluate a Naive Bayes model with hyperparameter tuning.\n",
    "nb_params = {'alpha': [0.1, 0.5, 1.0]}\n",
    "grid_nb = GridSearchCV(MultinomialNB(), param_grid=nb_params, cv=5)\n",
    "grid_nb.fit(X_train, y_train)\n",
    "y_pred_nb = grid_nb.predict(X_test)"
   ]
  },
  {
   "cell_type": "code",
   "execution_count": 18,
   "id": "656b27b6",
   "metadata": {},
   "outputs": [
    {
     "name": "stdout",
     "output_type": "stream",
     "text": [
      "=== Naive Bayes ===\n",
      "\n",
      "Best Params: {'alpha': 0.1}\n",
      "\n",
      "Accuracy: 0.9614349775784753\n",
      "\n",
      "Classification Report:\n",
      "               precision    recall  f1-score   support\n",
      "\n",
      "           0       0.98      0.97      0.98       965\n",
      "           1       0.84      0.89      0.86       150\n",
      "\n",
      "    accuracy                           0.96      1115\n",
      "   macro avg       0.91      0.93      0.92      1115\n",
      "weighted avg       0.96      0.96      0.96      1115\n",
      "\n"
     ]
    }
   ],
   "source": [
    "# Print the results for Naive Bayes model.\n",
    "print(\"=== Naive Bayes ===\")\n",
    "print(\"\\nBest Params:\", grid_nb.best_params_)\n",
    "print(\"\\nAccuracy:\", accuracy_score(y_test, y_pred_nb))\n",
    "print(\"\\nClassification Report:\\n\", classification_report(y_test, y_pred_nb))"
   ]
  },
  {
   "cell_type": "code",
   "execution_count": 19,
   "id": "52c07083",
   "metadata": {},
   "outputs": [
    {
     "data": {
      "image/png": "[encoded data removed]",
      "text/plain": [
       "<Figure size 500x400 with 2 Axes>"
      ]
     },
     "metadata": {},
     "output_type": "display_data"
    }
   ],
   "source": [
    "# Plot confusion matrix for Naive Bayes model.\n",
    "plt.figure(figsize=(5,4))\n",
    "sns.heatmap(confusion_matrix(y_test, y_pred_nb), annot=True, fmt='d', cmap='Blues')\n",
    "plt.title(\"Naive Bayes - Confusion Matrix\")\n",
    "plt.xlabel(\"Predicted\")\n",
    "plt.ylabel(\"Actual\")\n",
    "plt.show()"
   ]
  },
  {
   "cell_type": "markdown",
   "id": "ac524982",
   "metadata": {},
   "source": [
    "##### Logistic Regression Model"
   ]
  },
  {
   "cell_type": "code",
   "execution_count": 20,
   "id": "5412088f",
   "metadata": {},
   "outputs": [],
   "source": [
    "# Train and evaluate a Logistic Regression model with hyperparameter tuning.\n",
    "lr_params = {'C': [0.1, 1, 10]}\n",
    "grid_lr = GridSearchCV(LogisticRegression(max_iter=1000), param_grid=lr_params, cv=5)\n",
    "grid_lr.fit(X_train, y_train)\n",
    "y_pred_lr = grid_lr.predict(X_test)"
   ]
  },
  {
   "cell_type": "code",
   "execution_count": 21,
   "id": "a0ed9abd",
   "metadata": {},
   "outputs": [
    {
     "name": "stdout",
     "output_type": "stream",
     "text": [
      "=== Logistic Regression ===\n",
      "\n",
      "Best Params: {'C': 10}\n",
      "\n",
      "Accuracy: 0.9730941704035875\n",
      "\n",
      "Classification Report:\n",
      "               precision    recall  f1-score   support\n",
      "\n",
      "           0       0.99      0.98      0.98       965\n",
      "           1       0.88      0.93      0.90       150\n",
      "\n",
      "    accuracy                           0.97      1115\n",
      "   macro avg       0.93      0.96      0.94      1115\n",
      "weighted avg       0.97      0.97      0.97      1115\n",
      "\n"
     ]
    }
   ],
   "source": [
    "# Print the results for Logistic Regression model.\n",
    "print(\"=== Logistic Regression ===\")\n",
    "print(\"\\nBest Params:\", grid_lr.best_params_)\n",
    "print(\"\\nAccuracy:\", accuracy_score(y_test, y_pred_lr))\n",
    "print(\"\\nClassification Report:\\n\", classification_report(y_test, y_pred_lr))"
   ]
  },
  {
   "cell_type": "code",
   "execution_count": 22,
   "id": "2fb52daa",
   "metadata": {},
   "outputs": [
    {
     "data": {
      "image/png": "[encoded data removed]",
      "text/plain": [
       "<Figure size 500x400 with 2 Axes>"
      ]
     },
     "metadata": {},
     "output_type": "display_data"
    }
   ],
   "source": [
    "# Plot confusion matrix for Logistic Regression model.\n",
    "plt.figure(figsize=(5,4))\n",
    "sns.heatmap(confusion_matrix(y_test, y_pred_lr), annot=True, fmt='d', cmap='Greens')\n",
    "plt.title(\"Logistic Regression - Confusion Matrix\")\n",
    "plt.xlabel(\"Predicted\")\n",
    "plt.ylabel(\"Actual\")\n",
    "plt.show()"
   ]
  },
  {
   "cell_type": "markdown",
   "id": "0d0a977b",
   "metadata": {},
   "source": [
    "##### Support Vector Machine (SVM)"
   ]
  },
  {
   "cell_type": "code",
   "execution_count": 23,
   "id": "231eeeab",
   "metadata": {},
   "outputs": [],
   "source": [
    "# Train and evaluate a Support Vector Machine model with hyperparameter tuning.\n",
    "svm_params = {'C': [0.1, 1, 10]}\n",
    "grid_svm = GridSearchCV(LinearSVC(), param_grid=svm_params, cv=5)\n",
    "grid_svm.fit(X_train, y_train)\n",
    "y_pred_svm = grid_svm.predict(X_test)"
   ]
  },
  {
   "cell_type": "code",
   "execution_count": 24,
   "id": "33fe4f66",
   "metadata": {},
   "outputs": [
    {
     "name": "stdout",
     "output_type": "stream",
     "text": [
      "=== SVM ===\n",
      "\n",
      "Best Params: {'C': 1}\n",
      "\n",
      "Accuracy: 0.9748878923766816\n",
      "\n",
      "Classification Report:\n",
      "               precision    recall  f1-score   support\n",
      "\n",
      "           0       0.99      0.98      0.99       965\n",
      "           1       0.88      0.95      0.91       150\n",
      "\n",
      "    accuracy                           0.97      1115\n",
      "   macro avg       0.93      0.96      0.95      1115\n",
      "weighted avg       0.98      0.97      0.98      1115\n",
      "\n"
     ]
    }
   ],
   "source": [
    "# Print the results for Support Vector Machine model.\n",
    "print(\"=== SVM ===\")\n",
    "print(\"\\nBest Params:\", grid_svm.best_params_)\n",
    "print(\"\\nAccuracy:\", accuracy_score(y_test, y_pred_svm))\n",
    "print(\"\\nClassification Report:\\n\", classification_report(y_test, y_pred_svm))"
   ]
  },
  {
   "cell_type": "code",
   "execution_count": 25,
   "id": "331e7813",
   "metadata": {},
   "outputs": [
    {
     "data": {
      "image/png": "[encoded data removed]",
      "text/plain": [
       "<Figure size 500x400 with 2 Axes>"
      ]
     },
     "metadata": {},
     "output_type": "display_data"
    }
   ],
   "source": [
    "# Plot confusion matrix for Support Vector Machine model.\n",
    "plt.figure(figsize=(5,4))\n",
    "sns.heatmap(confusion_matrix(y_test, y_pred_svm), annot=True, fmt='d', cmap='Oranges')\n",
    "plt.title(\"SVM - Confusion Matrix\")\n",
    "plt.xlabel(\"Predicted\")\n",
    "plt.ylabel(\"Actual\")\n",
    "plt.show()"
   ]
  },
  {
   "cell_type": "markdown",
   "id": "7b46b45a",
   "metadata": {},
   "source": [
    "### Best Model Selection"
   ]
  },
  {
   "cell_type": "code",
   "execution_count": 26,
   "id": "cda6fbd7",
   "metadata": {},
   "outputs": [],
   "source": [
    "# Create a dictionary to store model accuracies.\n",
    "model_accuracies = {\n",
    "    \"Naive Bayes\": accuracy_score(y_test, y_pred_nb),\n",
    "    \"Logistic Regression\": accuracy_score(y_test, y_pred_lr),\n",
    "    \"SVM\": accuracy_score(y_test, y_pred_svm)\n",
    "}"
   ]
  },
  {
   "cell_type": "code",
   "execution_count": 27,
   "id": "1a10a274",
   "metadata": {},
   "outputs": [],
   "source": [
    "# Find the best model based on accuracy.\n",
    "best_model_name = max(model_accuracies, key=model_accuracies.get)\n",
    "best_model_accuracy = model_accuracies[best_model_name]"
   ]
  },
  {
   "cell_type": "code",
   "execution_count": 28,
   "id": "c2eaa802",
   "metadata": {},
   "outputs": [],
   "source": [
    "# Get the best model based on the name.\n",
    "best_model = {\n",
    "    \"Naive Bayes\": grid_nb,\n",
    "    \"Logistic Regression\": grid_lr,\n",
    "    \"SVM\": grid_svm\n",
    "}[best_model_name]"
   ]
  },
  {
   "cell_type": "code",
   "execution_count": 29,
   "id": "891c6db3",
   "metadata": {},
   "outputs": [
    {
     "name": "stdout",
     "output_type": "stream",
     "text": [
      "Best Model: SVM with Accuracy = 0.9748878923766816\n"
     ]
    }
   ],
   "source": [
    "# Print the best model and its accuracy\n",
    "print(f\"Best Model: {best_model_name} with Accuracy = {best_model_accuracy}\")"
   ]
  }
 ],
 "metadata": {
  "kernelspec": {
   "display_name": "Python 3",
   "language": "python",
   "name": "python3"
  },
  "language_info": {
   "codemirror_mode": {
    "name": "ipython",
    "version": 3
   },
   "file_extension": ".py",
   "mimetype": "text/x-python",
   "name": "python",
   "nbconvert_exporter": "python",
   "pygments_lexer": "ipython3",
   "version": "3.11.0"
  }
 },
 "nbformat": 4,
 "nbformat_minor": 5
}
